{
 "cells": [
  {
   "cell_type": "markdown",
   "metadata": {},
   "source": [
    "## Reporting: wragle_report\n",
    "* Create a **300-600 word written report** called \"wrangle_report.pdf\" or \"wrangle_report.html\" that briefly describes your wrangling efforts. This is to be framed as an internal document."
   ]
  },
  {
   "cell_type": "markdown",
   "metadata": {},
   "source": [
    "## Data Gathering\n",
    "In `Data Gathering`, i have to load data from severals sources using multiple steps,i.e, read csv data using `pd.read_csv()` , Request data content by using `request.get(url)` then write into some files by using `with open('filename.txt', mode=\"wb\") as file :`, and retrive data from twitter API by using `tweepy` even though i got \n",
    "verification issues for accessing `Auth` Twitter API. "
   ]
  },
  {
   "cell_type": "markdown",
   "metadata": {},
   "source": [
    "## Assessing Data\n",
    "After the Data is already gathering as Data Frame, we have to assessing the data by checking data type, missing values, and the readiness of the data. after, i was already assessing the data, i got 8 quality issuess. i.e: \n",
    "### Quality issues\n",
    "1. Tweet ID , id_str, and Status ID have to be formated as object\n",
    "\n",
    "2. All timestamp column have to be formated as datetime64 format\n",
    "\n",
    "3. Convert 'None' into None/NaN values using `np.nan()`\n",
    "\n",
    "4. exclude retweet id\n",
    "\n",
    "5. Missing Expanded URL\n",
    "\n",
    "6. Replace \"a\" and \"an\" to `None` in name column of twitter archive \n",
    "\n",
    "7. Merge columns Doggo, Floofer, Pupper and Puppo into single column\n",
    "\n",
    "8. Timestamp heve to be filltered before 1st Aug 2017\n",
    "\n",
    "### Tidiness issues\n",
    "1. Melt column doggo, puppo, pupper, and floofe into single column\n",
    "2. Change tweet ID into Object data type for joining data with other tables"
   ]
  },
  {
   "cell_type": "markdown",
   "metadata": {},
   "source": [
    "## Data Insight\n",
    "After doing quality issuess and tidiness of the data. i got some insight and visualization \n",
    "### Insights:\n",
    "1.`golden retriever's` dog has the most favorited pic in twitter's dog tweet\n",
    "\n",
    "2.`pupper's` dog has the most count of values in twitter tweet \n",
    "\n",
    "3.p1_conf and p2_conf have corelation with rating_ratio "
   ]
  }
 ],
 "metadata": {
  "kernelspec": {
   "display_name": "Python 3",
   "language": "python",
   "name": "python3"
  },
  "language_info": {
   "codemirror_mode": {
    "name": "ipython",
    "version": 3
   },
   "file_extension": ".py",
   "mimetype": "text/x-python",
   "name": "python",
   "nbconvert_exporter": "python",
   "pygments_lexer": "ipython3",
   "version": "3.6.3"
  }
 },
 "nbformat": 4,
 "nbformat_minor": 2
}
